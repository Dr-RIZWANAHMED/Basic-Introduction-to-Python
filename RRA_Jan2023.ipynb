{
  "nbformat": 4,
  "nbformat_minor": 0,
  "metadata": {
    "colab": {
      "provenance": [],
      "authorship_tag": "ABX9TyPKATTzNZG1ajhyNR8KULgX",
      "include_colab_link": true
    },
    "kernelspec": {
      "name": "python3",
      "display_name": "Python 3"
    },
    "language_info": {
      "name": "python"
    }
  },
  "cells": [
    {
      "cell_type": "markdown",
      "metadata": {
        "id": "view-in-github",
        "colab_type": "text"
      },
      "source": [
        "<a href=\"https://colab.research.google.com/github/Dr-RIZWANAHMED/Basic-Introduction-to-Python/blob/master/RRA_Jan2023.ipynb\" target=\"_parent\"><img src=\"https://colab.research.google.com/assets/colab-badge.svg\" alt=\"Open In Colab\"/></a>"
      ]
    },
    {
      "cell_type": "markdown",
      "source": [
        "# Linear Congruential Generator\n",
        "\n",
        "$$ X_{i+1}=(a*X_i+c) mod \\  M $$"
      ],
      "metadata": {
        "id": "1gHYBnXKtYbN"
      }
    },
    {
      "cell_type": "code",
      "execution_count": 1,
      "metadata": {
        "id": "6YG3rQl8yZwm"
      },
      "outputs": [],
      "source": [
        "import numpy as  np"
      ]
    },
    {
      "cell_type": "code",
      "source": [
        "M=32\n",
        "c=1\n",
        "a=21\n",
        "Xo=13\n",
        "Xnew=0\n",
        "y=np.zeros(100,dtype='float')        #  array \n",
        "\n",
        "y[0]=Xo/M\n",
        "N=100\n",
        "\n",
        "for i in range(1,N):\n",
        "  Xnew=np.mod(a*Xo+c,M)      # calculate integer random number\n",
        "  y[i]=Xnew/M\n",
        "  Xo=Xnew\n",
        "# ===================\n"
      ],
      "metadata": {
        "id": "UEePG_oMyjf0"
      },
      "execution_count": 2,
      "outputs": []
    },
    {
      "cell_type": "code",
      "source": [
        "y[:40]"
      ],
      "metadata": {
        "colab": {
          "base_uri": "https://localhost:8080/"
        },
        "id": "6xi3LpBJzH3o",
        "outputId": "2bd9b2c2-e9a1-4f55-e8f4-c8f05dd88111"
      },
      "execution_count": 3,
      "outputs": [
        {
          "output_type": "execute_result",
          "data": {
            "text/plain": [
              "array([0.40625, 0.5625 , 0.84375, 0.75   , 0.78125, 0.4375 , 0.21875,\n",
              "       0.625  , 0.15625, 0.3125 , 0.59375, 0.5    , 0.53125, 0.1875 ,\n",
              "       0.96875, 0.375  , 0.90625, 0.0625 , 0.34375, 0.25   , 0.28125,\n",
              "       0.9375 , 0.71875, 0.125  , 0.65625, 0.8125 , 0.09375, 0.     ,\n",
              "       0.03125, 0.6875 , 0.46875, 0.875  , 0.40625, 0.5625 , 0.84375,\n",
              "       0.75   , 0.78125, 0.4375 , 0.21875, 0.625  ])"
            ]
          },
          "metadata": {},
          "execution_count": 3
        }
      ]
    },
    {
      "cell_type": "markdown",
      "source": [
        "# Binary Processes Simulation\n",
        "## Compute the probability of getting two heads in 5 trials of a fair coin using Monte Carlo method"
      ],
      "metadata": {
        "id": "IVb8nlB-uDC9"
      }
    },
    {
      "cell_type": "code",
      "source": [
        "# random numbers in python\n",
        "\n",
        "# Probability of getting two heads in 5 trials of a fair coin\n",
        "nexp=1000       # total students\n",
        "\n",
        "mexp=0          # those who get 2 heads\n",
        "coin=['Head','Tail']\n",
        "\n",
        "for i in range(nexp):\n",
        "  # one experiment\n",
        "  tosses=np.random.choice(coin,5)   \n",
        "  nhead=0\n",
        "  for j in range(5):\n",
        "    if(tosses[j]=='Head'):\n",
        "      nhead+=1\n",
        "    # ===================\n",
        "  # =========================\n",
        "  # experiment completed\n",
        "  if (nhead==2):\n",
        "    mexp +=1\n",
        "  # ========================\n",
        "# ===========================\n",
        "\n",
        "prob=mexp/nexp\n",
        "prob_th=10*0.5**5\n",
        "\n",
        "print('prob_mc=',prob)\n",
        "print('Theoretical value=',prob_th)\n",
        "\n",
        "\n",
        "\n",
        "\n",
        "\n",
        " \n"
      ],
      "metadata": {
        "colab": {
          "base_uri": "https://localhost:8080/"
        },
        "id": "3W3yi1jb1mCE",
        "outputId": "b95da201-838d-43c9-e9b2-717a4f8cf4aa"
      },
      "execution_count": 4,
      "outputs": [
        {
          "output_type": "stream",
          "name": "stdout",
          "text": [
            "prob_mc= 0.336\n",
            "Theoretical value= 0.3125\n"
          ]
        }
      ]
    },
    {
      "cell_type": "code",
      "source": [
        "np.random.choice(coin,5)"
      ],
      "metadata": {
        "colab": {
          "base_uri": "https://localhost:8080/"
        },
        "id": "ucNHzczl4_fr",
        "outputId": "84480520-38f4-4c15-b299-e29c592e2b7f"
      },
      "execution_count": 5,
      "outputs": [
        {
          "output_type": "execute_result",
          "data": {
            "text/plain": [
              "array(['Head', 'Tail', 'Head', 'Tail', 'Tail'], dtype='<U4')"
            ]
          },
          "metadata": {},
          "execution_count": 5
        }
      ]
    },
    {
      "cell_type": "code",
      "source": [
        "np.random.random(5)"
      ],
      "metadata": {
        "colab": {
          "base_uri": "https://localhost:8080/"
        },
        "id": "3ZBfiRzB58dz",
        "outputId": "9784e7f8-43cc-4cce-c87d-7381c95a0c7c"
      },
      "execution_count": 6,
      "outputs": [
        {
          "output_type": "execute_result",
          "data": {
            "text/plain": [
              "array([0.66188166, 0.440987  , 0.16323896, 0.69240583, 0.75629454])"
            ]
          },
          "metadata": {},
          "execution_count": 6
        }
      ]
    },
    {
      "cell_type": "code",
      "source": [
        "# Probability of and gate\n",
        "Pr_A=0.02\n",
        "Pr_B=0.03\n",
        "\n",
        "nexpt=100000\n",
        "\n",
        "fcount=0\n",
        "\n",
        "for jexpt in range(nexpt):\n",
        "  x=np.random.random()  # for the state of A\n",
        "  y=np.random.random()  # for state of B\n",
        "\n",
        "  if((x<=Pr_A)and(y<=Pr_B)):\n",
        "    fcount=fcount+1\n",
        "  # ============================\n",
        "# ===============\n",
        "\n",
        "prob_mc=fcount/nexpt \n",
        "prob_th=Pr_A*Pr_B \n",
        "\n",
        "print('Prob_mc=',prob_mc)\n",
        "print('prob_th=',prob_th) "
      ],
      "metadata": {
        "colab": {
          "base_uri": "https://localhost:8080/"
        },
        "id": "VcztVxO07rGf",
        "outputId": "5499def8-6d62-4803-ac85-1f5cfed255fa"
      },
      "execution_count": 7,
      "outputs": [
        {
          "output_type": "stream",
          "name": "stdout",
          "text": [
            "Prob_mc= 0.00057\n",
            "prob_th= 0.0006\n"
          ]
        }
      ]
    },
    {
      "cell_type": "code",
      "source": [
        "pr_decay=1/6     # like a dice\n",
        "N=80\n",
        "D=0\n",
        "\n",
        "for i_nucl in range(N):\n",
        "  # roll the dice\n",
        "  x=np.random.random()\n",
        "  if(x<=pr_decay):\n",
        "    D=D+1\n",
        "    N-=1\n",
        "  # =================\n",
        "# ==================\n",
        "\n",
        "print('after a time step!')\n",
        "print('Nuclide survived=',N)\n",
        "print('Daughter nuclide=',D)"
      ],
      "metadata": {
        "colab": {
          "base_uri": "https://localhost:8080/"
        },
        "id": "xjkRsDnTAsOA",
        "outputId": "5351395c-857c-4429-dd1c-77f57ce6a9c1"
      },
      "execution_count": 8,
      "outputs": [
        {
          "output_type": "stream",
          "name": "stdout",
          "text": [
            "after a time step!\n",
            "Nuclide survived= 67\n",
            "Daughter nuclide= 13\n"
          ]
        }
      ]
    },
    {
      "cell_type": "code",
      "source": [
        "for i_nucl in range(N):\n",
        "  # roll the dice\n",
        "  x=np.random.random()\n",
        "  if(x<=pr_decay):\n",
        "    D=D+1\n",
        "    N-=1\n",
        "  # =================\n",
        "# ==================\n",
        "\n",
        "print('after a time step!')\n",
        "print('Nuclide survived=',N)\n",
        "print('Daughter nuclide=',D)"
      ],
      "metadata": {
        "colab": {
          "base_uri": "https://localhost:8080/"
        },
        "id": "a_GdZn1SCXc5",
        "outputId": "d6d43b01-d97a-4369-9dac-4fc74642b01b"
      },
      "execution_count": 9,
      "outputs": [
        {
          "output_type": "stream",
          "name": "stdout",
          "text": [
            "after a time step!\n",
            "Nuclide survived= 51\n",
            "Daughter nuclide= 29\n"
          ]
        }
      ]
    },
    {
      "cell_type": "code",
      "source": [
        "import matplotlib.pyplot as plt"
      ],
      "metadata": {
        "id": "0ukbR_v6JPoV"
      },
      "execution_count": 10,
      "outputs": []
    },
    {
      "cell_type": "markdown",
      "source": [
        "# Uniform Random Numbers'"
      ],
      "metadata": {
        "id": "bB0SnpC2B6z2"
      }
    },
    {
      "cell_type": "code",
      "source": [
        "N=10000\n",
        "x=np.random.random(N)\n",
        "\n",
        "f,x_lim,patch=plt.hist(x,20,color='blue')"
      ],
      "metadata": {
        "colab": {
          "base_uri": "https://localhost:8080/",
          "height": 265
        },
        "id": "Zv_ZU5H6JYPr",
        "outputId": "bd9206fb-c1ac-454c-b1e4-e81af7453234"
      },
      "execution_count": 11,
      "outputs": [
        {
          "output_type": "display_data",
          "data": {
            "text/plain": [
              "<Figure size 432x288 with 1 Axes>"
            ],
            "image/png": "[encoded data removed]"
          },
          "metadata": {
            "needs_background": "light"
          }
        }
      ]
    },
    {
      "cell_type": "markdown",
      "source": [
        "# Exponentially Distributed Random numbers\n",
        "## Direct Sampling \n",
        "$$ x=F^{-1}(\\xi)  $$\n",
        "$$ x=-\\frac{1}{\\lambda}ln(\\xi) $$"
      ],
      "metadata": {
        "id": "bI5YDvUiCM0H"
      }
    },
    {
      "cell_type": "code",
      "source": [
        "lamda=0.03\n",
        "y=-1/lamda*np.log(x)\n",
        "nbins=20\n",
        "fy,ybins,patch=plt.hist(y,20,range=[0,100],color='m')"
      ],
      "metadata": {
        "colab": {
          "base_uri": "https://localhost:8080/",
          "height": 265
        },
        "id": "qfdaRrLLKa3N",
        "outputId": "29e4f0f5-a246-4bb4-81c4-0cf2c46a3e59"
      },
      "execution_count": 12,
      "outputs": [
        {
          "output_type": "display_data",
          "data": {
            "text/plain": [
              "<Figure size 432x288 with 1 Axes>"
            ],
            "image/png": "[encoded data removed]"
          },
          "metadata": {
            "needs_background": "light"
          }
        }
      ]
    },
    {
      "cell_type": "code",
      "source": [
        "# computation of Mean value\n",
        "np.mean(y),1/lamda"
      ],
      "metadata": {
        "colab": {
          "base_uri": "https://localhost:8080/"
        },
        "id": "_HZ3djiYLh12",
        "outputId": "d83f0303-1cf1-450a-a307-0f0a3207d721"
      },
      "execution_count": 13,
      "outputs": [
        {
          "output_type": "execute_result",
          "data": {
            "text/plain": [
              "(33.63540553398396, 33.333333333333336)"
            ]
          },
          "metadata": {},
          "execution_count": 13
        }
      ]
    },
    {
      "cell_type": "code",
      "source": [
        "coin=['Head','Tail']\n",
        "np.random.choice(['Head','Tail'])"
      ],
      "metadata": {
        "colab": {
          "base_uri": "https://localhost:8080/",
          "height": 35
        },
        "id": "8y424yqO6GaJ",
        "outputId": "23f063e5-5e24-4ec4-95a7-14b596a7e618"
      },
      "execution_count": 15,
      "outputs": [
        {
          "output_type": "execute_result",
          "data": {
            "text/plain": [
              "'Head'"
            ],
            "application/vnd.google.colaboratory.intrinsic+json": {
              "type": "string"
            }
          },
          "metadata": {},
          "execution_count": 15
        }
      ]
    },
    {
      "cell_type": "markdown",
      "source": [
        "$$ I="
      ],
      "metadata": {
        "id": "Byx-XglA8eHc"
      }
    },
    {
      "cell_type": "code",
      "source": [
        "np.pi*np.sum(np.sin(np.pi*np.random.random(500)))/500"
      ],
      "metadata": {
        "colab": {
          "base_uri": "https://localhost:8080/"
        },
        "id": "Inmfj--66g0K",
        "outputId": "6ce70ff4-d980-43b5-ee02-37ed91af86f3"
      },
      "execution_count": 18,
      "outputs": [
        {
          "output_type": "execute_result",
          "data": {
            "text/plain": [
              "2.016644832919393"
            ]
          },
          "metadata": {},
          "execution_count": 18
        }
      ]
    }
  ]
}