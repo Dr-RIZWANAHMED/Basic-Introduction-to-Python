{
  "cells": [
    {
      "cell_type": "markdown",
      "metadata": {
        "id": "view-in-github",
        "colab_type": "text"
      },
      "source": [
        "<a href=\"https://colab.research.google.com/github/john-s-butler-dit/Basic-Introduction-to-Python/blob/master/W1T3%20The%20Psychometric%20Function_solution.ipynb\" target=\"_parent\"><img src=\"https://colab.research.google.com/assets/colab-badge.svg\" alt=\"Open In Colab\"/></a>"
      ]
    },
    {
      "cell_type": "markdown",
      "metadata": {
        "id": "XFQ4m10G9ZbO"
      },
      "source": [
        "# The Psychometric Function Week 1, Tutorial 3\n",
        "\n",
        "\n"
      ]
    },
    {
      "cell_type": "markdown",
      "metadata": {
        "id": "lK8n73qF9ZbU"
      },
      "source": [
        "In this notebook we will show some of the basics of plotting and accessing elements of a vector (array) of numbers using the psychometric function also known as a cumulative Gaussian."
      ]
    },
    {
      "cell_type": "markdown",
      "metadata": {
        "id": "INuPpdSX9ZbV"
      },
      "source": [
        "### Libraries"
      ]
    },
    {
      "cell_type": "code",
      "execution_count": 1,
      "metadata": {
        "id": "mi0jlUXN9ZbV"
      },
      "outputs": [],
      "source": [
        "# LIBRARY\n",
        "\n",
        "import numpy as np # vector manipulation\n",
        "from scipy.stats import norm # Psychometric Function\n",
        "\n",
        "# THIS IS FOR PLOTTING\n",
        "%matplotlib inline\n",
        "import matplotlib.pyplot as plt # side-stepping mpl backend\n",
        "import warnings\n",
        "warnings.filterwarnings(\"ignore\")"
      ]
    },
    {
      "cell_type": "markdown",
      "metadata": {
        "id": "8sltgvNI9ZbW"
      },
      "source": [
        "## A Single Psychometric Function\n",
        "\n",
        "The code below will plot a psychometric function for temporal discrimination from 0 to 100ms interstimulus interval with a Point of Subjective Equlaity PSE (mean $\\mu$) of 50 and and Just Noiticable Difference JND (variance $\\sigma$) of 10.\n",
        "The value 0 indicates the participant saw two synchronous lights, a value of 1 indicates the participant saw two asynchronous lights (Butler et al. 2015).\n",
        "\n"
      ]
    },
    {
      "cell_type": "markdown",
      "metadata": {
        "id": "qUp9PsPQ9ZbW"
      },
      "source": [
        "Now we define a range of x values called ISI starting at 0 and ending at 100 in unit steps. To do this we use the __numpy__ library function __arange__."
      ]
    },
    {
      "cell_type": "code",
      "execution_count": 11,
      "metadata": {
        "colab": {
          "base_uri": "https://localhost:8080/"
        },
        "id": "zQTRHlGK9ZbW",
        "outputId": "9ce9d470-1428-413f-9971-28b22812a813"
      },
      "outputs": [
        {
          "output_type": "stream",
          "name": "stdout",
          "text": [
            "[  0   1   2   3   4   5   6   7   8   9  10  11  12  13  14  15  16  17\n",
            "  18  19  20  21  22  23  24  25  26  27  28  29  30  31  32  33  34  35\n",
            "  36  37  38  39  40  41  42  43  44  45  46  47  48  49  50  51  52  53\n",
            "  54  55  56  57  58  59  60  61  62  63  64  65  66  67  68  69  70  71\n",
            "  72  73  74  75  76  77  78  79  80  81  82  83  84  85  86  87  88  89\n",
            "  90  91  92  93  94  95  96  97  98  99 100]\n"
          ]
        }
      ],
      "source": [
        "ISI=np.arange(0,101,1) # INTER STIMULUS INTERVAL\n",
        "print(ISI)"
      ]
    },
    {
      "cell_type": "markdown",
      "metadata": {
        "id": "MTA-98719ZbY"
      },
      "source": [
        "To print the first element of the x range use the comand print(x[0])"
      ]
    },
    {
      "cell_type": "code",
      "execution_count": 16,
      "metadata": {
        "colab": {
          "base_uri": "https://localhost:8080/"
        },
        "id": "3FBc7dlu9ZbY",
        "outputId": "a1823861-7694-4e58-c2b3-6fa21febefbb"
      },
      "outputs": [
        {
          "output_type": "stream",
          "name": "stdout",
          "text": [
            "0\n"
          ]
        }
      ],
      "source": [
        "print(ISI[0])"
      ]
    },
    {
      "cell_type": "markdown",
      "metadata": {
        "id": "3qwlhSfO9ZbY"
      },
      "source": [
        "To plot the psychometric function we use the function __norm.cdf__ from the __scipy.stats__ library."
      ]
    },
    {
      "cell_type": "code",
      "execution_count": 29,
      "metadata": {
        "id": "RvusKPK89ZbZ"
      },
      "outputs": [],
      "source": [
        "PSE=50 # mean\n",
        "JND=10 # Variance \n",
        "TDT_fun= norm.cdf(ISI,PSE,JND) # x, mean, variance\n",
        "#print(TDT_fun)"
      ]
    },
    {
      "cell_type": "markdown",
      "metadata": {
        "id": "VcGx60Io9ZbZ"
      },
      "source": [
        "To plot the result we use the __matplotlib__ library function __plt__."
      ]
    },
    {
      "cell_type": "code",
      "execution_count": 30,
      "metadata": {
        "colab": {
          "base_uri": "https://localhost:8080/",
          "height": 265
        },
        "id": "udbZxE2B9ZbZ",
        "outputId": "185894e7-70d9-43d3-db2a-93effb8a71d7"
      },
      "outputs": [
        {
          "output_type": "display_data",
          "data": {
            "image/png": "[encoded data removed]",
            "text/plain": [
              "<Figure size 432x288 with 1 Axes>"
            ]
          },
          "metadata": {
            "needs_background": "light"
          }
        }
      ],
      "source": [
        "fig = plt.figure(figsize=(6,4)) # This setups the size of the figure\n",
        "plt.plot(ISI,TDT_fun,'-o',color='black')\n",
        "plt.show() # This plots the figure"
      ]
    },
    {
      "cell_type": "markdown",
      "metadata": {
        "id": "wQ3lfTzQ9Zba"
      },
      "source": [
        "To plot the guassian of the psychometric function we use the function __norm.pdf__ from the __scipy.stats__ library."
      ]
    },
    {
      "cell_type": "code",
      "execution_count": 31,
      "metadata": {
        "colab": {
          "base_uri": "https://localhost:8080/",
          "height": 265
        },
        "id": "QU7YEVS19Zba",
        "outputId": "07be1776-6bfb-49dd-f25a-476cf4f81767"
      },
      "outputs": [
        {
          "output_type": "display_data",
          "data": {
            "image/png": "[encoded data removed]",
            "text/plain": [
              "<Figure size 432x288 with 1 Axes>"
            ]
          },
          "metadata": {
            "needs_background": "light"
          }
        }
      ],
      "source": [
        "gaussian= norm.pdf(ISI,PSE,JND)\n",
        "fig = plt.figure(figsize=(6,4)) # This setups the size of the figure\n",
        "plt.plot(ISI,gaussian,'-',color='black')\n",
        "plt.show() # This plots the figure"
      ]
    },
    {
      "cell_type": "markdown",
      "source": [
        "# Problems"
      ],
      "metadata": {
        "id": "tFdDp0QlDbfb"
      }
    },
    {
      "cell_type": "markdown",
      "metadata": {
        "id": "DWTnLxR79Zbb"
      },
      "source": [
        "## Problem 1\n",
        "Re-do the plot of the psychometric function with a PSE of 40 and JND of 30.\n"
      ]
    },
    {
      "cell_type": "code",
      "execution_count": 35,
      "metadata": {
        "colab": {
          "base_uri": "https://localhost:8080/",
          "height": 374
        },
        "id": "ll-tN8Nk9Zbb",
        "outputId": "56f7fcda-cef2-46c3-995d-393bfe81c4c7"
      },
      "outputs": [
        {
          "output_type": "display_data",
          "data": {
            "image/png": "[encoded data removed]",
            "text/plain": [
              "<Figure size 432x432 with 1 Axes>"
            ]
          },
          "metadata": {
            "needs_background": "light"
          }
        }
      ],
      "source": [
        "##############################################################################\n",
        "## INSERT: Re-do the plot of the psychometric function with a PSE of 40 and JND of 30.\n",
        "##############################################################################\n",
        "#######################ANSWER#################################\n",
        "PSE =50 # CHANGE THIS TO MOVE THE CURVE LEFT AND RIGHT\n",
        "JND=30 # CHANGE THIS TO FLATTEN THE CURVE\n",
        "ISI=np.arange(0,101,1) # INTER STIMULUS THRESHOLD\n",
        "\n",
        "#######################ANSWER#################################\n",
        "\n",
        "psychometric= norm.cdf(ISI,PSE,JND)\n",
        "\n",
        "fig = plt.figure(figsize=(6,6))\n",
        "plt.plot(ISI,psychometric,'-',color='red')\n",
        "\n",
        "plt.show()"
      ]
    },
    {
      "cell_type": "markdown",
      "metadata": {
        "id": "LZRS8QDf9Zbc"
      },
      "source": [
        "## Problem 2\n",
        "Re-do the plot but with a different coloured curve."
      ]
    },
    {
      "cell_type": "code",
      "execution_count": 38,
      "metadata": {
        "colab": {
          "base_uri": "https://localhost:8080/",
          "height": 374
        },
        "id": "E-xSHswd9Zbc",
        "outputId": "7cdebf12-7392-44da-bb44-d680bde74d46"
      },
      "outputs": [
        {
          "output_type": "display_data",
          "data": {
            "image/png": "[encoded data removed]",
            "text/plain": [
              "<Figure size 432x432 with 1 Axes>"
            ]
          },
          "metadata": {
            "needs_background": "light"
          }
        }
      ],
      "source": [
        "\n",
        "fig = plt.figure(figsize=(6,6))\n",
        "##############################################################################\n",
        "## INSERT: change the plot function to plot a different coloured line.\n",
        "##############################################################################\n",
        "\n",
        "#######################ANSWER#################################\n",
        "\n",
        "plt.plot(ISI,psychometric,'-',color='yellow')\n",
        "\n",
        "#######################ANSWER#################################\n",
        "\n",
        "plt.show()"
      ]
    },
    {
      "cell_type": "markdown",
      "metadata": {
        "id": "eU2S38ho9Zbd"
      },
      "source": [
        "## Problem 3\n",
        "What is the probability that someone will see the two flashing lights if the interstimulus interval is 60ms apart given a PSE of 45 and JND of 15."
      ]
    },
    {
      "cell_type": "code",
      "execution_count": 47,
      "metadata": {
        "colab": {
          "base_uri": "https://localhost:8080/",
          "height": 388
        },
        "id": "IxOHytSy9Zbd",
        "outputId": "fe955694-66bb-488d-e4f8-51d450d77b43"
      },
      "outputs": [
        {
          "output_type": "display_data",
          "data": {
            "image/png": "[encoded data removed]",
            "text/plain": [
              "<Figure size 432x432 with 1 Axes>"
            ]
          },
          "metadata": {
            "needs_background": "light"
          }
        }
      ],
      "source": [
        "PSE=45\n",
        "JND=15\n",
        "psychometric= norm.cdf(ISI,PSE,JND)\n",
        "\n",
        "fig = plt.figure(figsize=(6,6))\n",
        "plt.plot(ISI,psychometric,'-',color='blue')\n",
        "plt.xlabel('Interstimulus Interval (ms)')\n",
        "plt.ylabel('Proportion of Different Responses')\n",
        "plt.show()"
      ]
    },
    {
      "cell_type": "code",
      "execution_count": 51,
      "metadata": {
        "colab": {
          "base_uri": "https://localhost:8080/"
        },
        "id": "xN4lDSk-9Zbd",
        "outputId": "26395f0c-a9a9-47db-e62d-1a70beb6dad0"
      },
      "outputs": [
        {
          "output_type": "execute_result",
          "data": {
            "text/plain": [
              "array([0.84134475])"
            ]
          },
          "metadata": {},
          "execution_count": 51
        }
      ],
      "source": [
        "ISI==60.0 # FIND THE ISI VALUE THAT EQUALS 60 == is a logical argument\n",
        "psychometric[ISI==60.0]"
      ]
    },
    {
      "cell_type": "markdown",
      "metadata": {
        "id": "6dp5s8jI9Zbe"
      },
      "source": [
        "---\n",
        "# Summary\n",
        "\n",
        "In this tutorial, we learned:\n",
        "\n",
        "* To plot psychometric (cummulative Gaussian) function.\n",
        "* To find value from a function.\n",
        "\n"
      ]
    },
    {
      "cell_type": "markdown",
      "metadata": {
        "id": "9SbSCfUF9Zbe"
      },
      "source": [
        "## Reference \n",
        "Butler, John S., et al. \"Non-parametric bootstrapping method for measuring the temporal discrimination threshold for movement disorders.\" Journal of neural engineering 12.4 (2015): 046026."
      ]
    },
    {
      "cell_type": "code",
      "execution_count": 10,
      "metadata": {
        "id": "UGJnRVOO9Zbe"
      },
      "outputs": [],
      "source": [
        ""
      ]
    }
  ],
  "metadata": {
    "colab": {
      "name": "W1T3 The Psychometric Function.ipynb",
      "provenance": [],
      "include_colab_link": true
    },
    "kernelspec": {
      "display_name": "Python 3",
      "language": "python",
      "name": "python3"
    },
    "language_info": {
      "codemirror_mode": {
        "name": "ipython",
        "version": 3
      },
      "file_extension": ".py",
      "mimetype": "text/x-python",
      "name": "python",
      "nbconvert_exporter": "python",
      "pygments_lexer": "ipython3",
      "version": "3.8.5"
    }
  },
  "nbformat": 4,
  "nbformat_minor": 0
}