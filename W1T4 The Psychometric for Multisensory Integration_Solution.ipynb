{
  "nbformat": 4,
  "nbformat_minor": 0,
  "metadata": {
    "kernelspec": {
      "display_name": "Python 3",
      "language": "python",
      "name": "python3"
    },
    "language_info": {
      "codemirror_mode": {
        "name": "ipython",
        "version": 3
      },
      "file_extension": ".py",
      "mimetype": "text/x-python",
      "name": "python",
      "nbconvert_exporter": "python",
      "pygments_lexer": "ipython3",
      "version": "3.7.9"
    },
    "colab": {
      "name": "W1T4 The Psychometric for Multisensory Integration.ipynb",
      "provenance": [],
      "include_colab_link": true
    }
  },
  "cells": [
    {
      "cell_type": "markdown",
      "metadata": {
        "id": "view-in-github",
        "colab_type": "text"
      },
      "source": [
        "<a href=\"https://colab.research.google.com/github/john-s-butler-dit/Basic-Introduction-to-Python/blob/master/W1T4%20The%20Psychometric%20for%20Multisensory%20Integration_Solution.ipynb\" target=\"_parent\"><img src=\"https://colab.research.google.com/assets/colab-badge.svg\" alt=\"Open In Colab\"/></a>"
      ]
    },
    {
      "cell_type": "markdown",
      "metadata": {
        "id": "MsiCLKzk9Z7S"
      },
      "source": [
        "# The Psychometric Function for Multisensory Processing Week 1, Tutorial 4"
      ]
    },
    {
      "cell_type": "markdown",
      "metadata": {
        "id": "IKqbxph09Z7Y"
      },
      "source": [
        "In this notebook we will show some of the basics of plotting and accessing elements of a vector (array) of numbers using the psychometric function also known as a cumulative Gaussian."
      ]
    },
    {
      "cell_type": "markdown",
      "metadata": {
        "id": "aklEoWdV9Z7Z"
      },
      "source": [
        "### Libraries"
      ]
    },
    {
      "cell_type": "code",
      "metadata": {
        "id": "pgFEtnii9Z7Z"
      },
      "source": [
        "# LIBRARY\n",
        "\n",
        "import numpy as np # vector manipulation\n",
        "from scipy.stats import norm # Psychometric Function\n",
        "\n",
        "# THIS IS FOR PLOTTING\n",
        "%matplotlib inline\n",
        "import matplotlib.pyplot as plt # side-stepping mpl backend\n",
        "import warnings\n",
        "warnings.filterwarnings(\"ignore\")"
      ],
      "execution_count": 1,
      "outputs": []
    },
    {
      "cell_type": "markdown",
      "metadata": {
        "id": "S0beLHaY9Z7a"
      },
      "source": [
        "## Three Psychometric Functions\n",
        "\n",
        "The code below will plot three psychometric functions for height discrimination (Ernst and Banks, 2002).\n",
        "The participants conducted height discrimination using vision, touch and the two together vision and touch."
      ]
    },
    {
      "cell_type": "markdown",
      "metadata": {
        "id": "torg_ID-9Z7a"
      },
      "source": [
        "Now we define a range of x values starting at 0 and ending at 10 in 0.1cm steps. To do this we use the __numpy__ library function __arange__."
      ]
    },
    {
      "cell_type": "code",
      "metadata": {
        "id": "XqKHlVQC9Z7a",
        "outputId": "c182f848-3694-42c8-d1b6-891512daa5df",
        "colab": {
          "base_uri": "https://localhost:8080/"
        }
      },
      "source": [
        "Height=np.arange(0,10.05,.1)\n",
        "print(Height)"
      ],
      "execution_count": 2,
      "outputs": [
        {
          "output_type": "stream",
          "name": "stdout",
          "text": [
            "[ 0.   0.1  0.2  0.3  0.4  0.5  0.6  0.7  0.8  0.9  1.   1.1  1.2  1.3\n",
            "  1.4  1.5  1.6  1.7  1.8  1.9  2.   2.1  2.2  2.3  2.4  2.5  2.6  2.7\n",
            "  2.8  2.9  3.   3.1  3.2  3.3  3.4  3.5  3.6  3.7  3.8  3.9  4.   4.1\n",
            "  4.2  4.3  4.4  4.5  4.6  4.7  4.8  4.9  5.   5.1  5.2  5.3  5.4  5.5\n",
            "  5.6  5.7  5.8  5.9  6.   6.1  6.2  6.3  6.4  6.5  6.6  6.7  6.8  6.9\n",
            "  7.   7.1  7.2  7.3  7.4  7.5  7.6  7.7  7.8  7.9  8.   8.1  8.2  8.3\n",
            "  8.4  8.5  8.6  8.7  8.8  8.9  9.   9.1  9.2  9.3  9.4  9.5  9.6  9.7\n",
            "  9.8  9.9 10. ]\n"
          ]
        }
      ]
    },
    {
      "cell_type": "markdown",
      "metadata": {
        "id": "ItKeSPsh9Z7b"
      },
      "source": [
        "To print the first element of the x range use the comand print(x[0])"
      ]
    },
    {
      "cell_type": "code",
      "metadata": {
        "id": "aZRs4F0a9Z7b",
        "outputId": "8e3a4fac-5f35-40ea-b923-b37b4eb76236",
        "colab": {
          "base_uri": "https://localhost:8080/"
        }
      },
      "source": [
        "print(Height[0])"
      ],
      "execution_count": 3,
      "outputs": [
        {
          "output_type": "stream",
          "name": "stdout",
          "text": [
            "0.0\n"
          ]
        }
      ]
    },
    {
      "cell_type": "markdown",
      "metadata": {
        "id": "1x3gBFPR9Z7c"
      },
      "source": [
        "To plot the psychometric function we use the function __norm.cdf__ from the __scipy.stats__ library."
      ]
    },
    {
      "cell_type": "markdown",
      "metadata": {
        "id": "T5pf6dqz9Z7c"
      },
      "source": [
        "### Vision Psychometric Function\n",
        "The vision psychometric function had a PSE of 5.5 and a JND of 3.1."
      ]
    },
    {
      "cell_type": "code",
      "metadata": {
        "id": "PpZsHckw9Z7c",
        "outputId": "76c0bc01-ed37-4888-aac0-32fd5abb4f22",
        "colab": {
          "base_uri": "https://localhost:8080/"
        }
      },
      "source": [
        "Vision_PSE=5.5\n",
        "Vision_JND=3.1\n",
        "Vision_psychometric= norm.cdf(Height,Vision_PSE,Vision_JND)\n",
        "Vision_psychometric"
      ],
      "execution_count": 10,
      "outputs": [
        {
          "output_type": "execute_result",
          "data": {
            "text/plain": [
              "array([0.03801557, 0.04075987, 0.04366277, 0.04673025, 0.04996828,\n",
              "       0.05338277, 0.0569796 , 0.06076456, 0.06474336, 0.06892158,\n",
              "       0.07330463, 0.0778978 , 0.08270613, 0.08773448, 0.09298744,\n",
              "       0.09846934, 0.10418421, 0.11013576, 0.11632734, 0.12276193,\n",
              "       0.12944211, 0.13637006, 0.14354748, 0.15097562, 0.15865525,\n",
              "       0.16658663, 0.1747695 , 0.18320303, 0.19188588, 0.20081612,\n",
              "       0.20999125, 0.21940817, 0.22906321, 0.2389521 , 0.24906996,\n",
              "       0.25941133, 0.26997017, 0.28073981, 0.29171307, 0.30288215,\n",
              "       0.31423872, 0.32577394, 0.33747841, 0.34934228, 0.36135521,\n",
              "       0.37350643, 0.38578473, 0.39817856, 0.41067598, 0.42326476,\n",
              "       0.43593237, 0.44866606, 0.46145286, 0.47427963, 0.48713313,\n",
              "       0.5       , 0.51286687, 0.52572037, 0.53854714, 0.55133394,\n",
              "       0.56406763, 0.57673524, 0.58932402, 0.60182144, 0.61421527,\n",
              "       0.62649357, 0.63864479, 0.65065772, 0.66252159, 0.67422606,\n",
              "       0.68576128, 0.69711785, 0.70828693, 0.71926019, 0.73002983,\n",
              "       0.74058867, 0.75093004, 0.7610479 , 0.77093679, 0.78059183,\n",
              "       0.79000875, 0.79918388, 0.80811412, 0.81679697, 0.8252305 ,\n",
              "       0.83341337, 0.84134475, 0.84902438, 0.85645252, 0.86362994,\n",
              "       0.87055789, 0.87723807, 0.88367266, 0.88986424, 0.89581579,\n",
              "       0.90153066, 0.90701256, 0.91226552, 0.91729387, 0.9221022 ,\n",
              "       0.92669537])"
            ]
          },
          "metadata": {},
          "execution_count": 10
        }
      ]
    },
    {
      "cell_type": "markdown",
      "metadata": {
        "id": "ZOzwfE0a9Z7d"
      },
      "source": [
        "### Touch Psychometric Function\n",
        "The touch psychometric function had a PSE of 5.5 and a JND of 2.8."
      ]
    },
    {
      "cell_type": "code",
      "metadata": {
        "id": "2iA9nwVY9Z7d",
        "outputId": "5221c196-618d-4820-c2b2-4422b07c65d5",
        "colab": {
          "base_uri": "https://localhost:8080/"
        }
      },
      "source": [
        "Touch_PSE=5.5\n",
        "Touch_JND=2.8\n",
        "Touch_psychometric= norm.cdf(Height,Touch_PSE,Touch_JND)\n",
        "Touch_psychometric"
      ],
      "execution_count": 11,
      "outputs": [
        {
          "output_type": "execute_result",
          "data": {
            "text/plain": [
              "array([0.02474848, 0.02689204, 0.02918843, 0.03164542, 0.03427087,\n",
              "       0.03707277, 0.04005916, 0.04323813, 0.0466178 , 0.05020625,\n",
              "       0.05401152, 0.05804157, 0.06230423, 0.0668072 , 0.07155795,\n",
              "       0.07656373, 0.0818315 , 0.08736791, 0.09317925, 0.0992714 ,\n",
              "       0.10564977, 0.11231932, 0.11928444, 0.12654895, 0.13411608,\n",
              "       0.14198839, 0.15016773, 0.15865525, 0.16745135, 0.17655562,\n",
              "       0.18596684, 0.19568297, 0.2057011 , 0.21601745, 0.22662735,\n",
              "       0.23752526, 0.24870473, 0.2601584 , 0.27187806, 0.28385458,\n",
              "       0.29607801, 0.30853754, 0.32122153, 0.33411757, 0.3472125 ,\n",
              "       0.36049243, 0.37394282, 0.38754848, 0.40129367, 0.41516213,\n",
              "       0.42913712, 0.4432015 , 0.45733782, 0.47152834, 0.48575509,\n",
              "       0.5       , 0.51424491, 0.52847166, 0.54266218, 0.5567985 ,\n",
              "       0.57086288, 0.58483787, 0.59870633, 0.61245152, 0.62605718,\n",
              "       0.63950757, 0.6527875 , 0.66588243, 0.67877847, 0.69146246,\n",
              "       0.70392199, 0.71614542, 0.72812194, 0.7398416 , 0.75129527,\n",
              "       0.76247474, 0.77337265, 0.78398255, 0.7942989 , 0.80431703,\n",
              "       0.81403316, 0.82344438, 0.83254865, 0.84134475, 0.84983227,\n",
              "       0.85801161, 0.86588392, 0.87345105, 0.88071556, 0.88768068,\n",
              "       0.89435023, 0.9007286 , 0.90682075, 0.91263209, 0.9181685 ,\n",
              "       0.92343627, 0.92844205, 0.9331928 , 0.93769577, 0.94195843,\n",
              "       0.94598848])"
            ]
          },
          "metadata": {},
          "execution_count": 11
        }
      ]
    },
    {
      "cell_type": "markdown",
      "metadata": {
        "id": "pmDEUtHn9Z7d"
      },
      "source": [
        "### Multisensory (Vision-Touch) Psychometric Function\n",
        "The vision-touch psychometric function had a PSE of 5.5 and a JND of 2.2"
      ]
    },
    {
      "cell_type": "code",
      "metadata": {
        "id": "SHLQSi6c9Z7d"
      },
      "source": [
        "Multi_PSE=5.5\n",
        "Multi_JND=2.2\n",
        "Multi_psychometric= norm.cdf(Height,Multi_PSE,Multi_JND)"
      ],
      "execution_count": 12,
      "outputs": []
    },
    {
      "cell_type": "markdown",
      "metadata": {
        "id": "0k21v2yH9Z7e"
      },
      "source": [
        "To plot the result we use the __matplotlib__ library function __plt__."
      ]
    },
    {
      "cell_type": "code",
      "metadata": {
        "id": "ScYv74819Z7e",
        "outputId": "e8659bbb-2b4d-4eb2-94ad-e6f9bdbfefcd",
        "colab": {
          "base_uri": "https://localhost:8080/",
          "height": 388
        }
      },
      "source": [
        "fig = plt.figure(figsize=(6,6)) # This setups the size of the figure\n",
        "plt.plot(Height,Vision_psychometric,'.-',color='red',label='Vision')\n",
        "plt.plot(Height,Touch_psychometric,'--',color='blue',label='Touch')\n",
        "plt.plot(Height,Multi_psychometric,'-.',color='black',label='Vision-Touch')\n",
        "plt.legend()\n",
        "plt.xlabel('cm')\n",
        "plt.ylabel('Proportion Taller')\n",
        "plt.show() # This plots the figure"
      ],
      "execution_count": 16,
      "outputs": [
        {
          "output_type": "display_data",
          "data": {
            "image/png": "[encoded data removed]",
            "text/plain": [
              "<Figure size 432x432 with 1 Axes>"
            ]
          },
          "metadata": {
            "needs_background": "light"
          }
        }
      ]
    },
    {
      "cell_type": "markdown",
      "metadata": {
        "id": "Wu-HbCol9Z7f"
      },
      "source": [
        "## Prediction\n",
        "Ernst and Bank proposed the sensory integration was optimal which enabled them to make a prediction of the vision-touch JND from the vision JND and touch JND using the formula:\n",
        "$$ JND_{Pred}=\\sqrt{\\frac{JND_{Vision}^2JND_{Touch}^2}{JND_{Vision}^2+JND_{Touch}^2}}$$\n"
      ]
    },
    {
      "cell_type": "code",
      "metadata": {
        "id": "8VB8GFlj9Z7f",
        "outputId": "4b015957-9aeb-4958-a99c-09ab5343aaff",
        "colab": {
          "base_uri": "https://localhost:8080/"
        }
      },
      "source": [
        "Pred_JND=np.sqrt(Vision_JND*Vision_JND*Touch_JND*Touch_JND/(Vision_JND*Vision_JND+Touch_JND*Touch_JND))\n",
        "\n",
        "print(Pred_JND)"
      ],
      "execution_count": 8,
      "outputs": [
        {
          "output_type": "stream",
          "name": "stdout",
          "text": [
            "2.077887399703187\n"
          ]
        }
      ]
    },
    {
      "cell_type": "markdown",
      "metadata": {
        "id": "xacXI0Vc9Z7g"
      },
      "source": [
        "## Problem 1\n",
        "Plot the predicted psychometric function with the predicted JND and a PSE of 5.5.\n"
      ]
    },
    {
      "cell_type": "code",
      "metadata": {
        "id": "lPya3ECR9Z7g",
        "outputId": "4eeb032f-b474-40fe-ddc7-005978f95b08",
        "colab": {
          "base_uri": "https://localhost:8080/",
          "height": 279
        }
      },
      "source": [
        "##############################################################################\n",
        "## INSERT: Plot the predicted psychometric function with the predicted JND and a PSE of 5.5\n",
        "##############################################################################\n",
        "\n",
        "######################## ANSWER ##############################\n",
        "Pred_PSE=5.5\n",
        "Pred_JND=2.077887399703187\n",
        "Pred_psychometric= norm.cdf(Height,Pred_PSE,Pred_JND)\n",
        "######################### ANSWER ##############################\n",
        "\n",
        "fig = plt.figure(figsize=(6,4)) # This setups the size of the figure\n",
        "plt.plot(Height,Pred_psychometric,':',color='black',label='Multisensory Predicted')\n",
        "plt.plot(Height,Multi_psychometric,'-',color='black',label='Vision-Touch')\n",
        "plt.legend()\n",
        "plt.xlabel('cm')\n",
        "plt.ylabel('Proportion Taller')\n",
        "plt.show() # This plots the figure"
      ],
      "execution_count": 17,
      "outputs": [
        {
          "output_type": "display_data",
          "data": {
            "image/png": "[encoded data removed]",
            "text/plain": [
              "<Figure size 432x288 with 1 Axes>"
            ]
          },
          "metadata": {
            "needs_background": "light"
          }
        }
      ]
    },
    {
      "cell_type": "markdown",
      "metadata": {
        "id": "pjXXuCMG9Z7h"
      },
      "source": [
        "---\n",
        "# Summary\n",
        "\n",
        "In this tutorial, we learned:\n",
        "\n",
        "* To plot multiple psychometric (cummulative Gaussian) function.\n",
        "* To calculate a new value given values."
      ]
    },
    {
      "cell_type": "markdown",
      "metadata": {
        "id": "5dHo3k_m9Z7h"
      },
      "source": [
        "## Reference \n",
        "Ernst, Marc O., and Martin S. Banks. \"Humans integrate visual and haptic information in a statistically optimal fashion.\" Nature 415.6870 (2002): 429-433."
      ]
    },
    {
      "cell_type": "code",
      "metadata": {
        "id": "2tCWhhn49Z7h"
      },
      "source": [
        ""
      ],
      "execution_count": null,
      "outputs": []
    }
  ]
}