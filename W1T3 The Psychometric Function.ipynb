{
  "nbformat": 4,
  "nbformat_minor": 0,
  "metadata": {
    "kernelspec": {
      "display_name": "Python 3",
      "language": "python",
      "name": "python3"
    },
    "language_info": {
      "codemirror_mode": {
        "name": "ipython",
        "version": 3
      },
      "file_extension": ".py",
      "mimetype": "text/x-python",
      "name": "python",
      "nbconvert_exporter": "python",
      "pygments_lexer": "ipython3",
      "version": "3.7.9"
    },
    "colab": {
      "name": "W1T3 The Psychometric Function.ipynb",
      "provenance": [],
      "include_colab_link": true
    }
  },
  "cells": [
    {
      "cell_type": "markdown",
      "metadata": {
        "id": "view-in-github",
        "colab_type": "text"
      },
      "source": [
        "<a href=\"https://colab.research.google.com/github/john-s-butler-dit/Basic-Introduction-to-Python/blob/master/W1T3%20The%20Psychometric%20Function.ipynb\" target=\"_parent\"><img src=\"https://colab.research.google.com/assets/colab-badge.svg\" alt=\"Open In Colab\"/></a>"
      ]
    },
    {
      "cell_type": "markdown",
      "metadata": {
        "id": "XFQ4m10G9ZbO"
      },
      "source": [
        "# The Psychometric Function Week 1, Tutorial 3"
      ]
    },
    {
      "cell_type": "markdown",
      "metadata": {
        "id": "lK8n73qF9ZbU"
      },
      "source": [
        "In this notebook we will show some of the basics of plotting and accessing elements of a vector (array) of numbers using the psychometric function also known as a cumulative Gaussian."
      ]
    },
    {
      "cell_type": "markdown",
      "metadata": {
        "id": "INuPpdSX9ZbV"
      },
      "source": [
        "### Libraries"
      ]
    },
    {
      "cell_type": "code",
      "metadata": {
        "id": "mi0jlUXN9ZbV"
      },
      "source": [
        "# LIBRARY\n",
        "\n",
        "import numpy as np # vector manipulation\n",
        "from scipy.stats import norm # Pscyhometric Function\n",
        "\n",
        "# THIS IS FOR PLOTTING\n",
        "%matplotlib inline\n",
        "import matplotlib.pyplot as plt # side-stepping mpl backend\n",
        "import warnings\n",
        "warnings.filterwarnings(\"ignore\")"
      ],
      "execution_count": null,
      "outputs": []
    },
    {
      "cell_type": "markdown",
      "metadata": {
        "id": "8sltgvNI9ZbW"
      },
      "source": [
        "## A Single Psychometric Function\n",
        "\n",
        "The code below will plot a psychometric function for temporal discrimation from 0 to 100ms interstimulus interval with a PSE of 50 and and JND of 10.\n",
        "The value 0 indicates the participant saw two synchronous lights, a value of 1 indicates the participant saw two asynchronous lights (Butler et al. 2015).\n",
        "\n"
      ]
    },
    {
      "cell_type": "markdown",
      "metadata": {
        "id": "qUp9PsPQ9ZbW"
      },
      "source": [
        "Now we define a range of x values starting at 0 and ending at 100 in unit steps. To do this we use the __numpy__ library function __arange__."
      ]
    },
    {
      "cell_type": "code",
      "metadata": {
        "id": "zQTRHlGK9ZbW",
        "outputId": "0a5e0d7c-9a39-4f62-9b3e-afb830c7710f"
      },
      "source": [
        "x=np.arange(0,101,1)\n",
        "print(x)"
      ],
      "execution_count": null,
      "outputs": [
        {
          "output_type": "stream",
          "text": [
            "[  0   1   2   3   4   5   6   7   8   9  10  11  12  13  14  15  16  17\n",
            "  18  19  20  21  22  23  24  25  26  27  28  29  30  31  32  33  34  35\n",
            "  36  37  38  39  40  41  42  43  44  45  46  47  48  49  50  51  52  53\n",
            "  54  55  56  57  58  59  60  61  62  63  64  65  66  67  68  69  70  71\n",
            "  72  73  74  75  76  77  78  79  80  81  82  83  84  85  86  87  88  89\n",
            "  90  91  92  93  94  95  96  97  98  99 100]\n"
          ],
          "name": "stdout"
        }
      ]
    },
    {
      "cell_type": "markdown",
      "metadata": {
        "id": "MTA-98719ZbY"
      },
      "source": [
        "To print the first element of the x range use the comand print(x[0])"
      ]
    },
    {
      "cell_type": "code",
      "metadata": {
        "id": "3FBc7dlu9ZbY",
        "outputId": "4e040e40-883f-4b87-ef7b-c2786689de6f"
      },
      "source": [
        "print(x[0])"
      ],
      "execution_count": null,
      "outputs": [
        {
          "output_type": "stream",
          "text": [
            "0\n"
          ],
          "name": "stdout"
        }
      ]
    },
    {
      "cell_type": "markdown",
      "metadata": {
        "id": "3qwlhSfO9ZbY"
      },
      "source": [
        "To plot the psychometric function we use the function __norm.cdf__ from the __scipy.stats__ library."
      ]
    },
    {
      "cell_type": "code",
      "metadata": {
        "id": "RvusKPK89ZbZ"
      },
      "source": [
        "PSE=50\n",
        "JND=10\n",
        "psychometric= norm.cdf(x,PSE,JND)"
      ],
      "execution_count": null,
      "outputs": []
    },
    {
      "cell_type": "markdown",
      "metadata": {
        "id": "VcGx60Io9ZbZ"
      },
      "source": [
        "To plot the result we use the __matplotlib__ library function __plt__."
      ]
    },
    {
      "cell_type": "code",
      "metadata": {
        "id": "udbZxE2B9ZbZ",
        "outputId": "1bccb07a-d5cb-487b-8cc2-3371ac11dc73"
      },
      "source": [
        "fig = plt.figure(figsize=(6,4)) # This setups the size of the figure\n",
        "plt.plot(x,psychometric,'-',color='black')\n",
        "plt.show() # This plots the figure"
      ],
      "execution_count": null,
      "outputs": [
        {
          "output_type": "display_data",
          "data": {
            "image/png": "[encoded data removed]",
            "text/plain": [
              "<Figure size 432x288 with 1 Axes>"
            ]
          },
          "metadata": {
            "tags": [],
            "needs_background": "light"
          }
        }
      ]
    },
    {
      "cell_type": "markdown",
      "metadata": {
        "id": "wQ3lfTzQ9Zba"
      },
      "source": [
        "To plot the guassian of the psychometric function we use the function __norm.pdf__ from the __scipy.stats__ library."
      ]
    },
    {
      "cell_type": "code",
      "metadata": {
        "id": "QU7YEVS19Zba",
        "outputId": "a80c5d6b-7dbb-41e5-c200-930f15411bde"
      },
      "source": [
        "gaussian= norm.pdf(x,PSE,JND)\n",
        "fig = plt.figure(figsize=(6,4)) # This setups the size of the figure\n",
        "plt.plot(x,gaussian,'-',color='black')\n",
        "plt.show() # This plots the figure"
      ],
      "execution_count": null,
      "outputs": [
        {
          "output_type": "display_data",
          "data": {
            "image/png": "[encoded data removed]",
            "text/plain": [
              "<Figure size 432x288 with 1 Axes>"
            ]
          },
          "metadata": {
            "tags": [],
            "needs_background": "light"
          }
        }
      ]
    },
    {
      "cell_type": "markdown",
      "metadata": {
        "id": "DWTnLxR79Zbb"
      },
      "source": [
        "## Problem 1\n",
        "Re-do the plot of the psychometric function with a PSE of 40 and JND of 30.\n"
      ]
    },
    {
      "cell_type": "code",
      "metadata": {
        "id": "ll-tN8Nk9Zbb",
        "outputId": "f8fefeb1-e477-404d-b2d7-fb61219dac8e"
      },
      "source": [
        "##############################################################################\n",
        "## INSERT: Re-do the plot of the psychometric function with a PSE of 40 and JND of 30.\n",
        "##############################################################################\n",
        "\n",
        "psychometric= norm.cdf(x,PSE,JND)\n",
        "\n",
        "fig = plt.figure(figsize=(6,6))\n",
        "plt.plot(x,psychometric,'-',color='red')\n",
        "plt.show()"
      ],
      "execution_count": null,
      "outputs": [
        {
          "output_type": "display_data",
          "data": {
            "image/png": "[encoded data removed]",
            "text/plain": [
              "<Figure size 432x432 with 1 Axes>"
            ]
          },
          "metadata": {
            "tags": [],
            "needs_background": "light"
          }
        }
      ]
    },
    {
      "cell_type": "markdown",
      "metadata": {
        "id": "LZRS8QDf9Zbc"
      },
      "source": [
        "## Problem 2\n",
        "Re-do the plot but with a different coloured line."
      ]
    },
    {
      "cell_type": "code",
      "metadata": {
        "id": "E-xSHswd9Zbc",
        "outputId": "314a7d3a-6bd5-4851-e599-1939e7f84505"
      },
      "source": [
        "\n",
        "fig = plt.figure(figsize=(6,6))\n",
        "##############################################################################\n",
        "## INSERT: change the plot function to plot a different coloured line.\n",
        "##############################################################################\n",
        "\n",
        "plt.show()"
      ],
      "execution_count": null,
      "outputs": [
        {
          "output_type": "display_data",
          "data": {
            "text/plain": [
              "<Figure size 432x432 with 0 Axes>"
            ]
          },
          "metadata": {
            "tags": []
          }
        }
      ]
    },
    {
      "cell_type": "markdown",
      "metadata": {
        "id": "eU2S38ho9Zbd"
      },
      "source": [
        "## Problem 3\n",
        "What is the probability that some one will see the two flashing lights if the interstimulus interval is 60ms apart given a PSE of 45 and JND of 15."
      ]
    },
    {
      "cell_type": "code",
      "metadata": {
        "id": "IxOHytSy9Zbd",
        "outputId": "e45338fa-0bc8-4e0f-d378-190940dbf6d0"
      },
      "source": [
        "PSE=45\n",
        "JND=15\n",
        "psychometric= norm.cdf(x,PSE,JND)\n",
        "\n",
        "fig = plt.figure(figsize=(6,6))\n",
        "plt.plot(x,psychometric,'-',color='blue')\n",
        "plt.xlabel('Interstimulus Interval (ms)')\n",
        "plt.ylabel('Proportion of Different Responses')\n",
        "plt.show()"
      ],
      "execution_count": null,
      "outputs": [
        {
          "output_type": "display_data",
          "data": {
            "image/png": "[encoded data removed]",
            "text/plain": [
              "<Figure size 432x432 with 1 Axes>"
            ]
          },
          "metadata": {
            "tags": [],
            "needs_background": "light"
          }
        }
      ]
    },
    {
      "cell_type": "code",
      "metadata": {
        "id": "xN4lDSk-9Zbd",
        "outputId": "eca848c4-91f3-4788-a106-726c4aabb8e2"
      },
      "source": [
        "print(psychometric)"
      ],
      "execution_count": null,
      "outputs": [
        {
          "output_type": "stream",
          "text": [
            "[0.0013499  0.00167672 0.0020741  0.00255513 0.00313484 0.00383038\n",
            " 0.00466119 0.00564917 0.00681886 0.00819754 0.00981533 0.0117053\n",
            " 0.01390345 0.0164487  0.01938279 0.02275013 0.02659757 0.03097408\n",
            " 0.03593032 0.04151822 0.04779035 0.05479929 0.06259687 0.07123338\n",
            " 0.08075666 0.09121122 0.10263725 0.11506967 0.12853715 0.14306119\n",
            " 0.15865525 0.17532394 0.19306234 0.2118554  0.23167757 0.25249254\n",
            " 0.27425312 0.29690143 0.32036919 0.34457826 0.36944134 0.39486291\n",
            " 0.42074029 0.44696488 0.47342354 0.5        0.52657646 0.55303512\n",
            " 0.57925971 0.60513709 0.63055866 0.65542174 0.67963081 0.70309857\n",
            " 0.72574688 0.74750746 0.76832243 0.7881446  0.80693766 0.82467606\n",
            " 0.84134475 0.85693881 0.87146285 0.88493033 0.89736275 0.90878878\n",
            " 0.91924334 0.92876662 0.93740313 0.94520071 0.95220965 0.95848178\n",
            " 0.96406968 0.96902592 0.97340243 0.97724987 0.98061721 0.9835513\n",
            " 0.98609655 0.9882947  0.99018467 0.99180246 0.99318114 0.99435083\n",
            " 0.99533881 0.99616962 0.99686516 0.99744487 0.9979259  0.99832328\n",
            " 0.9986501  0.9989177  0.99913583 0.99931286 0.99945589 0.99957094\n",
            " 0.99966307 0.99973652 0.99979482 0.99984089 0.99987713]\n"
          ],
          "name": "stdout"
        }
      ]
    },
    {
      "cell_type": "markdown",
      "metadata": {
        "id": "6dp5s8jI9Zbe"
      },
      "source": [
        "---\n",
        "# Summary\n",
        "\n",
        "In this tutorial, we learned:\n",
        "\n",
        "* To plot psychometric (cummulative Gaussian) function.\n",
        "* To find value from a function.\n",
        "\n"
      ]
    },
    {
      "cell_type": "markdown",
      "metadata": {
        "id": "9SbSCfUF9Zbe"
      },
      "source": [
        "## Reference \n",
        "Butler, John S., et al. \"Non-parametric bootstrapping method for measuring the temporal discrimination threshold for movement disorders.\" Journal of neural engineering 12.4 (2015): 046026."
      ]
    },
    {
      "cell_type": "code",
      "metadata": {
        "id": "UGJnRVOO9Zbe"
      },
      "source": [
        ""
      ],
      "execution_count": null,
      "outputs": []
    }
  ]
}