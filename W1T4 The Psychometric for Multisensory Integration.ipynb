{
  "nbformat": 4,
  "nbformat_minor": 0,
  "metadata": {
    "kernelspec": {
      "display_name": "Python 3",
      "language": "python",
      "name": "python3"
    },
    "language_info": {
      "codemirror_mode": {
        "name": "ipython",
        "version": 3
      },
      "file_extension": ".py",
      "mimetype": "text/x-python",
      "name": "python",
      "nbconvert_exporter": "python",
      "pygments_lexer": "ipython3",
      "version": "3.7.9"
    },
    "colab": {
      "name": "W1T4 The Psychometric for Multisensory Integration.ipynb",
      "provenance": [],
      "include_colab_link": true
    }
  },
  "cells": [
    {
      "cell_type": "markdown",
      "metadata": {
        "id": "view-in-github",
        "colab_type": "text"
      },
      "source": [
        "<a href=\"https://colab.research.google.com/github/john-s-butler-dit/Basic-Introduction-to-Python/blob/master/W1T4%20The%20Psychometric%20for%20Multisensory%20Integration.ipynb\" target=\"_parent\"><img src=\"https://colab.research.google.com/assets/colab-badge.svg\" alt=\"Open In Colab\"/></a>"
      ]
    },
    {
      "cell_type": "markdown",
      "metadata": {
        "id": "MsiCLKzk9Z7S"
      },
      "source": [
        "# The Psychometric Function for Multisensory Processing Week 1, Tutorial 4"
      ]
    },
    {
      "cell_type": "markdown",
      "metadata": {
        "id": "IKqbxph09Z7Y"
      },
      "source": [
        "In this notebook we will show some of the basics of plotting and accessing elements of a vector (array) of numbers using the psychometric function also known as a cumulative Gaussian."
      ]
    },
    {
      "cell_type": "markdown",
      "metadata": {
        "id": "aklEoWdV9Z7Z"
      },
      "source": [
        "### Libraries"
      ]
    },
    {
      "cell_type": "code",
      "metadata": {
        "id": "pgFEtnii9Z7Z"
      },
      "source": [
        "# LIBRARY\n",
        "\n",
        "import numpy as np # vector manipulation\n",
        "from scipy.stats import norm # Psychometric Function\n",
        "\n",
        "# THIS IS FOR PLOTTING\n",
        "%matplotlib inline\n",
        "import matplotlib.pyplot as plt # side-stepping mpl backend\n",
        "import warnings\n",
        "warnings.filterwarnings(\"ignore\")"
      ],
      "execution_count": 1,
      "outputs": []
    },
    {
      "cell_type": "markdown",
      "metadata": {
        "id": "S0beLHaY9Z7a"
      },
      "source": [
        "## Three Psychometric Functions\n",
        "\n",
        "The code below will plot three psychometric functions for height discrimination (Ernst and Banks, 2002).\n",
        "The participants conducted height discrimination using vision, touch and the two together vision and touch."
      ]
    },
    {
      "cell_type": "markdown",
      "metadata": {
        "id": "torg_ID-9Z7a"
      },
      "source": [
        "Now we define a range of x values starting at 0 and ending at 10 in 0.1cm steps. To do this we use the __numpy__ library function __arange__."
      ]
    },
    {
      "cell_type": "code",
      "metadata": {
        "id": "XqKHlVQC9Z7a",
        "outputId": "0d30139c-8390-43e3-e0b7-beda573adbb2",
        "colab": {
          "base_uri": "https://localhost:8080/"
        }
      },
      "source": [
        "Height=np.arange(0,10.05,.1)\n",
        "print(Height)"
      ],
      "execution_count": 2,
      "outputs": [
        {
          "output_type": "stream",
          "text": [
            "[ 0.   0.1  0.2  0.3  0.4  0.5  0.6  0.7  0.8  0.9  1.   1.1  1.2  1.3\n",
            "  1.4  1.5  1.6  1.7  1.8  1.9  2.   2.1  2.2  2.3  2.4  2.5  2.6  2.7\n",
            "  2.8  2.9  3.   3.1  3.2  3.3  3.4  3.5  3.6  3.7  3.8  3.9  4.   4.1\n",
            "  4.2  4.3  4.4  4.5  4.6  4.7  4.8  4.9  5.   5.1  5.2  5.3  5.4  5.5\n",
            "  5.6  5.7  5.8  5.9  6.   6.1  6.2  6.3  6.4  6.5  6.6  6.7  6.8  6.9\n",
            "  7.   7.1  7.2  7.3  7.4  7.5  7.6  7.7  7.8  7.9  8.   8.1  8.2  8.3\n",
            "  8.4  8.5  8.6  8.7  8.8  8.9  9.   9.1  9.2  9.3  9.4  9.5  9.6  9.7\n",
            "  9.8  9.9 10. ]\n"
          ],
          "name": "stdout"
        }
      ]
    },
    {
      "cell_type": "markdown",
      "metadata": {
        "id": "ItKeSPsh9Z7b"
      },
      "source": [
        "To print the first element of the x range use the comand print(x[0])"
      ]
    },
    {
      "cell_type": "code",
      "metadata": {
        "id": "aZRs4F0a9Z7b",
        "outputId": "38361bcb-0796-48b6-8334-650cca49ffbb",
        "colab": {
          "base_uri": "https://localhost:8080/"
        }
      },
      "source": [
        "print(Height[0])"
      ],
      "execution_count": 3,
      "outputs": [
        {
          "output_type": "stream",
          "text": [
            "0.0\n"
          ],
          "name": "stdout"
        }
      ]
    },
    {
      "cell_type": "markdown",
      "metadata": {
        "id": "1x3gBFPR9Z7c"
      },
      "source": [
        "To plot the psychometric function we use the function __norm.cdf__ from the __scipy.stats__ library."
      ]
    },
    {
      "cell_type": "markdown",
      "metadata": {
        "id": "T5pf6dqz9Z7c"
      },
      "source": [
        "### Vision Psychometric Function\n",
        "The vision psychometric function had a PSE of 5.5 and a JND of 3.1."
      ]
    },
    {
      "cell_type": "code",
      "metadata": {
        "id": "PpZsHckw9Z7c"
      },
      "source": [
        "Vision_PSE=5.5\n",
        "Vision_JND=3.1\n",
        "Vision_psychometric= norm.cdf(Height,Vision_PSE,Vision_JND)"
      ],
      "execution_count": 4,
      "outputs": []
    },
    {
      "cell_type": "markdown",
      "metadata": {
        "id": "ZOzwfE0a9Z7d"
      },
      "source": [
        "### Touch Psychometric Function\n",
        "The touch psychometric function had a PSE of 5.5 and a JND of 2.8."
      ]
    },
    {
      "cell_type": "code",
      "metadata": {
        "id": "2iA9nwVY9Z7d"
      },
      "source": [
        "Touch_PSE=5.5\n",
        "Touch_JND=2.8\n",
        "Touch_psychometric= norm.cdf(Height,Touch_PSE,Touch_JND)"
      ],
      "execution_count": 5,
      "outputs": []
    },
    {
      "cell_type": "markdown",
      "metadata": {
        "id": "pmDEUtHn9Z7d"
      },
      "source": [
        "### Multisensory (Vision-Touch) Psychometric Function\n",
        "The vision-touch psychometric function had a PSE of 5.5 and a JND of 2."
      ]
    },
    {
      "cell_type": "code",
      "metadata": {
        "id": "SHLQSi6c9Z7d"
      },
      "source": [
        "Multi_PSE=5.5\n",
        "Multi_JND=2.2\n",
        "Multi_psychometric= norm.cdf(Height,Multi_PSE,Multi_JND)"
      ],
      "execution_count": 6,
      "outputs": []
    },
    {
      "cell_type": "markdown",
      "metadata": {
        "id": "0k21v2yH9Z7e"
      },
      "source": [
        "To plot the result we use the __matplotlib__ library function __plt__."
      ]
    },
    {
      "cell_type": "code",
      "metadata": {
        "id": "ScYv74819Z7e",
        "outputId": "a6250b2a-32a6-4afa-94c1-7ff592ea39f7",
        "colab": {
          "base_uri": "https://localhost:8080/",
          "height": 279
        }
      },
      "source": [
        "fig = plt.figure(figsize=(6,4)) # This setups the size of the figure\n",
        "plt.plot(Height,Vision_psychometric,'-',color='red',label='Vision')\n",
        "plt.plot(Height,Touch_psychometric,'-',color='blue',label='Touch')\n",
        "plt.plot(Height,Multi_psychometric,'-',color='black',label='Vision-Touch')\n",
        "plt.legend()\n",
        "plt.xlabel('cm')\n",
        "plt.ylabel('Proportion Taller')\n",
        "plt.show() # This plots the figure"
      ],
      "execution_count": 9,
      "outputs": [
        {
          "output_type": "display_data",
          "data": {
            "image/png": "[encoded data removed]",
            "text/plain": [
              "<Figure size 432x288 with 1 Axes>"
            ]
          },
          "metadata": {
            "tags": [],
            "needs_background": "light"
          }
        }
      ]
    },
    {
      "cell_type": "markdown",
      "metadata": {
        "id": "Wu-HbCol9Z7f"
      },
      "source": [
        "## Prediction\n",
        "Ernst and Bank proposed the sensory integration was optimal which enabled them to make a prediction of the vision-touch JND from the vision JND and touch JND using the formula:\n",
        "$$ JND_{Pred}=\\sqrt{\\frac{JND_{Vision}^2JND_{Touch}^2}{JND_{Vision}^2+JND_{Touch}^2}}$$\n"
      ]
    },
    {
      "cell_type": "code",
      "metadata": {
        "id": "8VB8GFlj9Z7f",
        "outputId": "1c234e32-f2f7-4671-da15-7342a55718b6",
        "colab": {
          "base_uri": "https://localhost:8080/"
        }
      },
      "source": [
        "Pred_JND=np.sqrt(Vision_JND*Vision_JND*Touch_JND*Touch_JND/(Vision_JND*Vision_JND+Touch_JND*Touch_JND))\n",
        "\n",
        "print(Pred_JND)"
      ],
      "execution_count": 10,
      "outputs": [
        {
          "output_type": "stream",
          "text": [
            "2.077887399703187\n"
          ],
          "name": "stdout"
        }
      ]
    },
    {
      "cell_type": "markdown",
      "metadata": {
        "id": "xacXI0Vc9Z7g"
      },
      "source": [
        "## Problem 1\n",
        "Plot the predicted psychometric function with the predicted JND and a PSE of 5.5.\n"
      ]
    },
    {
      "cell_type": "code",
      "metadata": {
        "id": "lPya3ECR9Z7g",
        "outputId": "f12d3093-aad6-452e-96d5-1162d9018c7f",
        "colab": {
          "base_uri": "https://localhost:8080/",
          "height": 279
        }
      },
      "source": [
        "##############################################################################\n",
        "## INSERT: Plot the predicted psychometric function with the predicted JND and a PSE of 5.5\n",
        "##############################################################################\n",
        "PSE_pred=5.5\n",
        "Pred_psychometric= norm.cdf(Height,PSE_pred,Pred_JND)\n",
        "\n",
        "fig = plt.figure(figsize=(6,4)) # This setups the size of the figure\n",
        "plt.plot(Height,Pred_psychometric,':',color='black',label='Multisensory Predicted')\n",
        "plt.plot(Height,Multi_psychometric,'-',color='black',label='Vision-Touch')\n",
        "plt.legend()\n",
        "plt.xlabel('cm')\n",
        "plt.ylabel('Proportion Taller')\n",
        "plt.show() # This plots the figure"
      ],
      "execution_count": 14,
      "outputs": [
        {
          "output_type": "display_data",
          "data": {
            "image/png": "[encoded data removed]",
            "text/plain": [
              "<Figure size 432x288 with 1 Axes>"
            ]
          },
          "metadata": {
            "tags": [],
            "needs_background": "light"
          }
        }
      ]
    },
    {
      "cell_type": "markdown",
      "metadata": {
        "id": "pjXXuCMG9Z7h"
      },
      "source": [
        "---\n",
        "# Summary\n",
        "\n",
        "In this tutorial, we learned:\n",
        "\n",
        "* To plot multiple psychometric (cummulative Gaussian) function.\n",
        "* To calculate a new value given values."
      ]
    },
    {
      "cell_type": "markdown",
      "metadata": {
        "id": "5dHo3k_m9Z7h"
      },
      "source": [
        "## Reference \n",
        "Ernst, Marc O., and Martin S. Banks. \"Humans integrate visual and haptic information in a statistically optimal fashion.\" Nature 415.6870 (2002): 429-433."
      ]
    },
    {
      "cell_type": "code",
      "metadata": {
        "id": "2tCWhhn49Z7h"
      },
      "source": [
        ""
      ],
      "execution_count": null,
      "outputs": []
    }
  ]
}